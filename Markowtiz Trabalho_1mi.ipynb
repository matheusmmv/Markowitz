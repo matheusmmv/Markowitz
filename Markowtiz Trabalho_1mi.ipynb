{
 "cells": [
  {
   "cell_type": "markdown",
   "id": "8e82aa50",
   "metadata": {},
   "source": [
    "# TRABALHO FINAL TEORIA MODERNA DO PORTFÓLIO - MARKOWITZ\n",
    "\n",
    "        Neste trabalho, o objetivo é desenvolver um script baseado no modelo de Markowitz, uma teoria amplamente utilizada no campo das finanças e investimentos. O motivo para a criação desse script é a necessidade de otimizar a alocação de recursos em uma carteira de investimentos, levando em consideração a relação entre o risco e o retorno esperado de cada ativo.\n",
    "        \n",
    "        Utilizar a teoria de Markowitz é de extrema relevância para os investidores e gestores de carteiras, pois oferece uma abordagem sistemática e quantitativa para a seleção de ativos e a construção de portfólios. Além disso, a automatização desse processo por meio de programação permite uma análise mais rápida e eficiente de diferentes cenários, ajudando a tomar decisões embasadas em dados e melhorando os resultados dos investimentos."
   ]
  },
  {
   "cell_type": "code",
   "execution_count": 1,
   "id": "47b43701",
   "metadata": {},
   "outputs": [
    {
     "name": "stderr",
     "output_type": "stream",
     "text": [
      "C:\\Users\\mathe\\anaconda3\\lib\\site-packages\\scipy\\__init__.py:138: UserWarning: A NumPy version >=1.16.5 and <1.23.0 is required for this version of SciPy (detected version 1.24.3)\n",
      "  warnings.warn(f\"A NumPy version >={np_minversion} and <{np_maxversion} is required for this version of \"\n"
     ]
    }
   ],
   "source": [
    "#Importando Bibliotecas\n",
    "import yfinance as yf\n",
    "import numpy as np\n",
    "import matplotlib.pyplot as plt\n",
    "import datetime as dt\n",
    "from scipy.optimize import minimize\n",
    "import matplotlib.ticker as mtick"
   ]
  },
  {
   "cell_type": "code",
   "execution_count": 2,
   "id": "cf4efb72",
   "metadata": {},
   "outputs": [],
   "source": [
    "#Periodo de Análise 2016-2023\n",
    "inicio = dt.date(2016, 1, 1)\n",
    "final = dt.date(2023, 1, 1)"
   ]
  },
  {
   "cell_type": "code",
   "execution_count": 3,
   "id": "35c34aea",
   "metadata": {
    "collapsed": true
   },
   "outputs": [
    {
     "name": "stdout",
     "output_type": "stream",
     "text": [
      "[*********************100%***********************]  7 of 7 completed\n"
     ]
    },
    {
     "data": {
      "text/html": [
       "<div>\n",
       "<style scoped>\n",
       "    .dataframe tbody tr th:only-of-type {\n",
       "        vertical-align: middle;\n",
       "    }\n",
       "\n",
       "    .dataframe tbody tr th {\n",
       "        vertical-align: top;\n",
       "    }\n",
       "\n",
       "    .dataframe thead th {\n",
       "        text-align: right;\n",
       "    }\n",
       "</style>\n",
       "<table border=\"1\" class=\"dataframe\">\n",
       "  <thead>\n",
       "    <tr style=\"text-align: right;\">\n",
       "      <th></th>\n",
       "      <th>ABEV3.SA</th>\n",
       "      <th>BBDC3.SA</th>\n",
       "      <th>ETER3.SA</th>\n",
       "      <th>ITSA4.SA</th>\n",
       "      <th>MYPK3.SA</th>\n",
       "      <th>SIMH3.SA</th>\n",
       "      <th>VALE3.SA</th>\n",
       "    </tr>\n",
       "    <tr>\n",
       "      <th>Date</th>\n",
       "      <th></th>\n",
       "      <th></th>\n",
       "      <th></th>\n",
       "      <th></th>\n",
       "      <th></th>\n",
       "      <th></th>\n",
       "      <th></th>\n",
       "    </tr>\n",
       "  </thead>\n",
       "  <tbody>\n",
       "    <tr>\n",
       "      <th>2016-01-04</th>\n",
       "      <td>13.508918</td>\n",
       "      <td>6.898613</td>\n",
       "      <td>9.650032</td>\n",
       "      <td>2.995685</td>\n",
       "      <td>8.515961</td>\n",
       "      <td>NaN</td>\n",
       "      <td>8.238918</td>\n",
       "    </tr>\n",
       "    <tr>\n",
       "      <th>2016-01-05</th>\n",
       "      <td>13.720854</td>\n",
       "      <td>6.952359</td>\n",
       "      <td>9.699018</td>\n",
       "      <td>3.045613</td>\n",
       "      <td>8.411925</td>\n",
       "      <td>NaN</td>\n",
       "      <td>8.128547</td>\n",
       "    </tr>\n",
       "    <tr>\n",
       "      <th>2016-01-06</th>\n",
       "      <td>13.587413</td>\n",
       "      <td>6.829312</td>\n",
       "      <td>9.552061</td>\n",
       "      <td>3.072848</td>\n",
       "      <td>8.367339</td>\n",
       "      <td>NaN</td>\n",
       "      <td>7.531242</td>\n",
       "    </tr>\n",
       "    <tr>\n",
       "      <th>2016-01-07</th>\n",
       "      <td>13.226338</td>\n",
       "      <td>6.610555</td>\n",
       "      <td>9.405107</td>\n",
       "      <td>3.027457</td>\n",
       "      <td>8.397065</td>\n",
       "      <td>NaN</td>\n",
       "      <td>7.083261</td>\n",
       "    </tr>\n",
       "    <tr>\n",
       "      <th>2016-01-08</th>\n",
       "      <td>13.399027</td>\n",
       "      <td>6.596883</td>\n",
       "      <td>9.552061</td>\n",
       "      <td>3.027457</td>\n",
       "      <td>8.605132</td>\n",
       "      <td>NaN</td>\n",
       "      <td>6.843041</td>\n",
       "    </tr>\n",
       "    <tr>\n",
       "      <th>...</th>\n",
       "      <td>...</td>\n",
       "      <td>...</td>\n",
       "      <td>...</td>\n",
       "      <td>...</td>\n",
       "      <td>...</td>\n",
       "      <td>...</td>\n",
       "      <td>...</td>\n",
       "    </tr>\n",
       "    <tr>\n",
       "      <th>2022-12-23</th>\n",
       "      <td>14.620000</td>\n",
       "      <td>12.724828</td>\n",
       "      <td>10.516922</td>\n",
       "      <td>8.348847</td>\n",
       "      <td>11.627464</td>\n",
       "      <td>6.903888</td>\n",
       "      <td>84.465065</td>\n",
       "    </tr>\n",
       "    <tr>\n",
       "      <th>2022-12-26</th>\n",
       "      <td>14.520000</td>\n",
       "      <td>12.429566</td>\n",
       "      <td>10.318489</td>\n",
       "      <td>8.241810</td>\n",
       "      <td>11.715109</td>\n",
       "      <td>6.787038</td>\n",
       "      <td>85.238083</td>\n",
       "    </tr>\n",
       "    <tr>\n",
       "      <th>2022-12-27</th>\n",
       "      <td>14.520000</td>\n",
       "      <td>12.505764</td>\n",
       "      <td>10.050605</td>\n",
       "      <td>8.154234</td>\n",
       "      <td>11.413223</td>\n",
       "      <td>6.368326</td>\n",
       "      <td>87.273392</td>\n",
       "    </tr>\n",
       "    <tr>\n",
       "      <th>2022-12-28</th>\n",
       "      <td>14.550000</td>\n",
       "      <td>12.886744</td>\n",
       "      <td>10.616138</td>\n",
       "      <td>8.319655</td>\n",
       "      <td>11.471652</td>\n",
       "      <td>6.754100</td>\n",
       "      <td>87.077682</td>\n",
       "    </tr>\n",
       "    <tr>\n",
       "      <th>2022-12-29</th>\n",
       "      <td>14.520000</td>\n",
       "      <td>12.829597</td>\n",
       "      <td>10.606215</td>\n",
       "      <td>8.280732</td>\n",
       "      <td>11.461915</td>\n",
       "      <td>6.724259</td>\n",
       "      <td>86.970047</td>\n",
       "    </tr>\n",
       "  </tbody>\n",
       "</table>\n",
       "<p>1744 rows × 7 columns</p>\n",
       "</div>"
      ],
      "text/plain": [
       "             ABEV3.SA   BBDC3.SA   ETER3.SA  ITSA4.SA   MYPK3.SA  SIMH3.SA  \\\n",
       "Date                                                                         \n",
       "2016-01-04  13.508918   6.898613   9.650032  2.995685   8.515961       NaN   \n",
       "2016-01-05  13.720854   6.952359   9.699018  3.045613   8.411925       NaN   \n",
       "2016-01-06  13.587413   6.829312   9.552061  3.072848   8.367339       NaN   \n",
       "2016-01-07  13.226338   6.610555   9.405107  3.027457   8.397065       NaN   \n",
       "2016-01-08  13.399027   6.596883   9.552061  3.027457   8.605132       NaN   \n",
       "...               ...        ...        ...       ...        ...       ...   \n",
       "2022-12-23  14.620000  12.724828  10.516922  8.348847  11.627464  6.903888   \n",
       "2022-12-26  14.520000  12.429566  10.318489  8.241810  11.715109  6.787038   \n",
       "2022-12-27  14.520000  12.505764  10.050605  8.154234  11.413223  6.368326   \n",
       "2022-12-28  14.550000  12.886744  10.616138  8.319655  11.471652  6.754100   \n",
       "2022-12-29  14.520000  12.829597  10.606215  8.280732  11.461915  6.724259   \n",
       "\n",
       "             VALE3.SA  \n",
       "Date                   \n",
       "2016-01-04   8.238918  \n",
       "2016-01-05   8.128547  \n",
       "2016-01-06   7.531242  \n",
       "2016-01-07   7.083261  \n",
       "2016-01-08   6.843041  \n",
       "...               ...  \n",
       "2022-12-23  84.465065  \n",
       "2022-12-26  85.238083  \n",
       "2022-12-27  87.273392  \n",
       "2022-12-28  87.077682  \n",
       "2022-12-29  86.970047  \n",
       "\n",
       "[1744 rows x 7 columns]"
      ]
     },
     "execution_count": 3,
     "metadata": {},
     "output_type": "execute_result"
    }
   ],
   "source": [
    "#Ativos Selecionados, e fechamento diário\n",
    "lista_acoes = [\"VALE3\",\"ABEV3\", \"ETER3\",\"MYPK3\",\"SIMH3\",\"ITSA4\",\"BBDC3\"]\n",
    "lista_acoes = [acao + \".SA\" for acao in lista_acoes]\n",
    "precos = yf.download(lista_acoes, inicio, final)['Adj Close']\n",
    "precos"
   ]
  },
  {
   "cell_type": "code",
   "execution_count": 4,
   "id": "d52d23a8",
   "metadata": {},
   "outputs": [
    {
     "data": {
      "text/plain": [
       "ABEV3.SA    0.000436\n",
       "BBDC3.SA   -0.000089\n",
       "ETER3.SA    0.001208\n",
       "ITSA4.SA    0.000378\n",
       "MYPK3.SA   -0.000098\n",
       "SIMH3.SA    0.000091\n",
       "VALE3.SA    0.001165\n",
       "dtype: float64"
      ]
     },
     "execution_count": 4,
     "metadata": {},
     "output_type": "execute_result"
    }
   ],
   "source": [
    "#Média Retorno dos Ativos\n",
    "retornos = precos.pct_change().apply(lambda x: np.log(1+x)).dropna()\n",
    "media_retornos = retornos.mean()\n",
    "matriz_cov = retornos.cov()\n",
    "media_retornos"
   ]
  },
  {
   "cell_type": "code",
   "execution_count": 5,
   "id": "63e8ceff",
   "metadata": {},
   "outputs": [],
   "source": [
    "#Simulação de pesos da Carteira\n",
    "numeros_carteiras = 10000\n",
    "tabela_retornos_esperados = np.zeros(numeros_carteiras)\n",
    "tabela_volatilidades_esperadas = np.zeros(numeros_carteiras)\n",
    "tabela_sharpe = np.zeros(numeros_carteiras)\n",
    "tabela_pesos = np.zeros((numeros_carteiras, len(lista_acoes)))\n",
    "\n",
    "for k in range(numeros_carteiras):\n",
    "    pesos = np.random.random(len(lista_acoes))\n",
    "    pesos = pesos/np.sum(pesos)\n",
    "    tabela_pesos[k, :] = pesos\n",
    "    \n",
    "    tabela_retornos_esperados[k] = np.sum(media_retornos * pesos * 252)\n",
    "    tabela_volatilidades_esperadas[k] = np.sqrt(np.dot(pesos.T, np.dot(matriz_cov*252, pesos)))\n",
    "    \n",
    "    tabela_sharpe[k] = tabela_retornos_esperados[k]/tabela_volatilidades_esperadas[k]"
   ]
  },
  {
   "cell_type": "code",
   "execution_count": 6,
   "id": "90ae162f",
   "metadata": {},
   "outputs": [
    {
     "data": {
      "text/plain": [
       "array([0.01990226, 0.00479656, 0.01178293, 0.16243476, 0.04454106,\n",
       "       0.02673519, 0.72980724])"
      ]
     },
     "execution_count": 6,
     "metadata": {},
     "output_type": "execute_result"
    }
   ],
   "source": [
    "#Pesos Ideais\n",
    "indice_do_sharpe_maximo = tabela_sharpe.argmax()\n",
    "tabela_pesos[indice_do_sharpe_maximo]"
   ]
  },
  {
   "cell_type": "code",
   "execution_count": 7,
   "id": "49115902",
   "metadata": {},
   "outputs": [
    {
     "data": {
      "text/plain": [
       "['VALE3', 'ABEV3', 'ETER3', 'MYPK3', 'SIMH3', 'ITSA4', 'BBDC3']"
      ]
     },
     "execution_count": 7,
     "metadata": {},
     "output_type": "execute_result"
    }
   ],
   "source": [
    "[\"VALE3\",\"ABEV3\", \"ETER3\",\"MYPK3\",\"SIMH3\",\"ITSA4\",\"BBDC3\"]"
   ]
  },
  {
   "cell_type": "code",
   "execution_count": 8,
   "id": "7f303770",
   "metadata": {},
   "outputs": [],
   "source": [
    "#Retorno Esperado\n",
    "tabela_retornos_esperados_arit = np.exp(tabela_retornos_esperados) - 1"
   ]
  },
  {
   "cell_type": "code",
   "execution_count": 9,
   "id": "fd19a6cf",
   "metadata": {},
   "outputs": [],
   "source": [
    "eixo_y_fronteira_eficiente = np.linspace(tabela_retornos_esperados_arit.min(),\n",
    "                                         tabela_retornos_esperados_arit.max(),50)\n",
    "\n",
    "def pegando_retorno(peso_teste):\n",
    "    peso_teste = np.array(peso_teste)\n",
    "    retorno = np.sum(media_retornos * peso_teste)* 252\n",
    "    retorno = np.exp(retorno) - 1\n",
    "    \n",
    "    return retorno\n",
    "\n",
    "def checando_soma_pesos(peso_teste):\n",
    "    \n",
    "    return np.sum(peso_teste) -1\n",
    "\n",
    "def pegando_vol(peso_teste):\n",
    "    peso_teste = np.array(peso_teste)\n",
    "    vol = np.sqrt(np.dot(peso_teste.T, np.dot(matriz_cov*252, peso_teste)))\n",
    "    \n",
    "    return vol\n",
    "\n",
    "peso_inicial = [1/len(lista_acoes)] * len(lista_acoes)\n",
    "limites = tuple([(0,1) for ativo in lista_acoes])\n",
    "\n",
    "eixo_x_fronteira_eficiente = []\n",
    "\n",
    "for retorno_possivel in eixo_y_fronteira_eficiente:\n",
    "    \n",
    "    restricoes = ({'type':'eq','fun':checando_soma_pesos},\n",
    "                 {'type':'eq','fun': lambda w:pegando_retorno(w) - retorno_possivel})\n",
    "    result = minimize(pegando_vol, peso_inicial, method= 'SLSQP', bounds = limites,\n",
    "                     constraints=restricoes)\n",
    "    eixo_x_fronteira_eficiente.append(result['fun'])"
   ]
  },
  {
   "cell_type": "code",
   "execution_count": 10,
   "id": "7932748a",
   "metadata": {
    "collapsed": true
   },
   "outputs": [
    {
     "data": {
      "image/png": "[encoded data removed]",
      "text/plain": [
       "<Figure size 432x288 with 1 Axes>"
      ]
     },
     "metadata": {
      "needs_background": "light"
     },
     "output_type": "display_data"
    }
   ],
   "source": [
    "#Plotando Gráfico Markowitz, Fronteira de Eficiência\n",
    "fig, ax = plt.subplots()\n",
    "\n",
    "ax.scatter(tabela_volatilidades_esperadas, tabela_retornos_esperados_arit, c = tabela_sharpe)\n",
    "plt.xlabel(\"Volatilidade Esperada\")\n",
    "plt.ylabel(\"Retorno Esperado\")\n",
    "ax.xaxis.label.set_color('black')\n",
    "ax.yaxis.label.set_color('black')\n",
    "ax.scatter(tabela_volatilidades_esperadas[indice_do_sharpe_maximo],\n",
    "          tabela_retornos_esperados_arit[indice_do_sharpe_maximo], c = \"red\")\n",
    "ax.plot(eixo_x_fronteira_eficiente, eixo_y_fronteira_eficiente)\n",
    "ax.yaxis.set_major_formatter(mtick.PercentFormatter(1.0))\n",
    "ax.xaxis.set_major_formatter(mtick.PercentFormatter(1.0))\n",
    "ax.tick_params(axis='x', colors = 'black')\n",
    "ax.tick_params(axis='y', colors = 'black')\n",
    "\n",
    "plt.show()"
   ]
  },
  {
   "cell_type": "code",
   "execution_count": null,
   "id": "659be7de",
   "metadata": {
    "collapsed": true
   },
   "outputs": [],
   "source": [
    "#O peso ideal encontrado nesse modelo, não se encontra na fronteira eficiente. Entretanto demonstra o melhor retorno por risco."
   ]
  }
 ],
 "metadata": {
  "kernelspec": {
   "display_name": "Python 3",
   "language": "python",
   "name": "python3"
  },
  "language_info": {
   "codemirror_mode": {
    "name": "ipython",
    "version": 3
   },
   "file_extension": ".py",
   "mimetype": "text/x-python",
   "name": "python",
   "nbconvert_exporter": "python",
   "pygments_lexer": "ipython3",
   "version": "3.8.8"
  }
 },
 "nbformat": 4,
 "nbformat_minor": 5
}
